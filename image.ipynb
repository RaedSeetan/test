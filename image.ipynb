{
 "cells": [
  {
   "cell_type": "code",
   "execution_count": null,
   "metadata": {},
   "outputs": [],
   "source": [
    "import os\n",
    "\n",
    "import random\n",
    "\n",
    "import tkinter as tk\n",
    "\n",
    "from tkinter import *\n",
    "\n",
    "from PIL import Image, ImageTk\n",
    "\n",
    " \n",
    "\n",
    "choice = open(\"x.jpg\", 'rb')\n",
    "\n",
    "final = Image.open(choice)\n",
    "\n",
    " \n",
    "\n",
    "window = Tk()\n",
    "\n",
    "window.geometry(\"1400x1400\")\n",
    "\n",
    " \n",
    "\n",
    "img=ImageTk.PhotoImage(Image.open(\"x.jpg\"))\n",
    "\n",
    " \n",
    "\n",
    "label = Label(window, image=img)\n",
    "\n",
    "label.image = img\n",
    "\n",
    "label.pack()\n",
    "\n",
    " \n",
    "\n",
    "window.mainloop()"
   ]
  },
  {
   "cell_type": "code",
   "execution_count": null,
   "metadata": {},
   "outputs": [],
   "source": []
  }
 ],
 "metadata": {
  "kernelspec": {
   "display_name": "Python 3",
   "language": "python",
   "name": "python3"
  },
  "language_info": {
   "codemirror_mode": {
    "name": "ipython",
    "version": 3
   },
   "file_extension": ".py",
   "mimetype": "text/x-python",
   "name": "python",
   "nbconvert_exporter": "python",
   "pygments_lexer": "ipython3",
   "version": "3.7.1"
  }
 },
 "nbformat": 4,
 "nbformat_minor": 2
}
